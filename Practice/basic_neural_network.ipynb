{
 "cells": [
  {
   "cell_type": "code",
   "execution_count": 1,
   "id": "79f4ca23",
   "metadata": {},
   "outputs": [],
   "source": [
    "# Import our dependencies\n",
    "import pandas as pd\n",
    "import matplotlib as plt\n",
    "from sklearn.datasets import make_blobs\n",
    "import sklearn as skl\n",
    "import tensorflow as tf"
   ]
  },
  {
   "cell_type": "code",
   "execution_count": 2,
   "id": "611121ee",
   "metadata": {},
   "outputs": [
    {
     "data": {
      "text/plain": [
       "<AxesSubplot:xlabel='Feature 1', ylabel='Feature 2'>"
      ]
     },
     "execution_count": 2,
     "metadata": {},
     "output_type": "execute_result"
    },
    {
     "data": {
      "image/png": "[encoded data removed]",
      "text/plain": [
       "<Figure size 432x288 with 2 Axes>"
      ]
     },
     "metadata": {
      "needs_background": "light"
     },
     "output_type": "display_data"
    }
   ],
   "source": [
    "# Generate dummy dataset\n",
    "X, y = make_blobs(n_samples=1000, centers=2, n_features=2, random_state=78)\n",
    "\n",
    "# Creating a DataFrame with the dummy data\n",
    "df = pd.DataFrame(X, columns=[\"Feature 1\", \"Feature 2\"])\n",
    "df[\"Target\"] = y\n",
    "\n",
    "# Plotting the dummy data\n",
    "df.plot.scatter(x=\"Feature 1\", y=\"Feature 2\", c=\"Target\", colormap=\"winter\")\n"
   ]
  },
  {
   "cell_type": "code",
   "execution_count": 3,
   "id": "1a4d97d6",
   "metadata": {},
   "outputs": [],
   "source": [
    "# Use sklearn to split dataset\n",
    "from sklearn.model_selection import train_test_split\n",
    "X_train, X_test, y_train, y_test = train_test_split(X, y, random_state=78)\n"
   ]
  },
  {
   "cell_type": "code",
   "execution_count": 4,
   "id": "ca7fd2ea",
   "metadata": {},
   "outputs": [],
   "source": [
    "# Create scaler instance\n",
    "X_scaler = skl.preprocessing.StandardScaler()\n",
    "\n",
    "# Fit the scaler\n",
    "X_scaler.fit(X_train)\n",
    "\n",
    "# Scale the data\n",
    "X_train_scaled = X_scaler.transform(X_train)\n",
    "X_test_scaled = X_scaler.transform(X_test)"
   ]
  },
  {
   "cell_type": "code",
   "execution_count": 5,
   "id": "bd2aa4a0",
   "metadata": {},
   "outputs": [],
   "source": [
    "# Create the Keras Sequential model\n",
    "nn_model = tf.keras.models.Sequential()"
   ]
  },
  {
   "cell_type": "code",
   "execution_count": 6,
   "id": "0ddadc11",
   "metadata": {},
   "outputs": [],
   "source": [
    "# Add our first Dense layer, including the input layer\n",
    "nn_model.add(tf.keras.layers.Dense(units=1, \n",
    "                                   activation=\"relu\", \n",
    "                                   input_dim=2))\n"
   ]
  },
  {
   "cell_type": "code",
   "execution_count": 7,
   "id": "96dca866",
   "metadata": {},
   "outputs": [],
   "source": [
    "# Add the output layer that uses a probability activation function\n",
    "nn_model.add(tf.keras.layers.Dense(units=1, activation=\"sigmoid\"))\n"
   ]
  },
  {
   "cell_type": "code",
   "execution_count": 8,
   "id": "d5d5378f",
   "metadata": {},
   "outputs": [
    {
     "name": "stdout",
     "output_type": "stream",
     "text": [
      "Model: \"sequential\"\n",
      "_________________________________________________________________\n",
      "Layer (type)                 Output Shape              Param #   \n",
      "=================================================================\n",
      "dense (Dense)                (None, 1)                 3         \n",
      "_________________________________________________________________\n",
      "dense_1 (Dense)              (None, 1)                 2         \n",
      "=================================================================\n",
      "Total params: 5\n",
      "Trainable params: 5\n",
      "Non-trainable params: 0\n",
      "_________________________________________________________________\n"
     ]
    }
   ],
   "source": [
    "# Check the structure of the Sequential model\n",
    "nn_model.summary()"
   ]
  },
  {
   "cell_type": "code",
   "execution_count": 9,
   "id": "a51a31bb",
   "metadata": {},
   "outputs": [],
   "source": [
    "# Compile the Sequential model together and customize metrics\n",
    "nn_model.compile(loss=\"binary_crossentropy\", optimizer=\"adam\", metrics=[\"accuracy\"])"
   ]
  },
  {
   "cell_type": "code",
   "execution_count": 10,
   "id": "8aa28bc3",
   "metadata": {},
   "outputs": [
    {
     "name": "stdout",
     "output_type": "stream",
     "text": [
      "Epoch 1/100\n",
      "24/24 [==============================] - 0s 942us/step - loss: 0.5687 - accuracy: 0.9973\n",
      "Epoch 2/100\n",
      "24/24 [==============================] - 0s 987us/step - loss: 0.5480 - accuracy: 0.9987\n",
      "Epoch 3/100\n",
      "24/24 [==============================] - 0s 884us/step - loss: 0.5280 - accuracy: 1.0000\n",
      "Epoch 4/100\n",
      "24/24 [==============================] - 0s 907us/step - loss: 0.5088 - accuracy: 1.0000\n",
      "Epoch 5/100\n",
      "24/24 [==============================] - 0s 912us/step - loss: 0.4903 - accuracy: 1.0000\n",
      "Epoch 6/100\n",
      "24/24 [==============================] - 0s 901us/step - loss: 0.4728 - accuracy: 1.0000\n",
      "Epoch 7/100\n",
      "24/24 [==============================] - 0s 888us/step - loss: 0.4560 - accuracy: 1.0000\n",
      "Epoch 8/100\n",
      "24/24 [==============================] - 0s 916us/step - loss: 0.4401 - accuracy: 1.0000\n",
      "Epoch 9/100\n",
      "24/24 [==============================] - 0s 909us/step - loss: 0.4248 - accuracy: 1.0000\n",
      "Epoch 10/100\n",
      "24/24 [==============================] - 0s 903us/step - loss: 0.4104 - accuracy: 1.0000\n",
      "Epoch 11/100\n",
      "24/24 [==============================] - 0s 913us/step - loss: 0.3967 - accuracy: 1.0000\n",
      "Epoch 12/100\n",
      "24/24 [==============================] - 0s 893us/step - loss: 0.3837 - accuracy: 1.0000\n",
      "Epoch 13/100\n",
      "24/24 [==============================] - 0s 914us/step - loss: 0.3714 - accuracy: 1.0000\n",
      "Epoch 14/100\n",
      "24/24 [==============================] - 0s 871us/step - loss: 0.3597 - accuracy: 1.0000\n",
      "Epoch 15/100\n",
      "24/24 [==============================] - 0s 869us/step - loss: 0.3487 - accuracy: 1.0000\n",
      "Epoch 16/100\n",
      "24/24 [==============================] - 0s 916us/step - loss: 0.3382 - accuracy: 1.0000\n",
      "Epoch 17/100\n",
      "24/24 [==============================] - 0s 899us/step - loss: 0.3282 - accuracy: 1.0000\n",
      "Epoch 18/100\n",
      "24/24 [==============================] - 0s 920us/step - loss: 0.3188 - accuracy: 1.0000\n",
      "Epoch 19/100\n",
      "24/24 [==============================] - 0s 889us/step - loss: 0.3097 - accuracy: 1.0000\n",
      "Epoch 20/100\n",
      "24/24 [==============================] - 0s 865us/step - loss: 0.3012 - accuracy: 1.0000\n",
      "Epoch 21/100\n",
      "24/24 [==============================] - 0s 921us/step - loss: 0.2930 - accuracy: 1.0000\n",
      "Epoch 22/100\n",
      "24/24 [==============================] - 0s 888us/step - loss: 0.2852 - accuracy: 1.0000\n",
      "Epoch 23/100\n",
      "24/24 [==============================] - 0s 958us/step - loss: 0.2778 - accuracy: 1.0000\n",
      "Epoch 24/100\n",
      "24/24 [==============================] - 0s 919us/step - loss: 0.2707 - accuracy: 1.0000\n",
      "Epoch 25/100\n",
      "24/24 [==============================] - 0s 1ms/step - loss: 0.2639 - accuracy: 1.0000\n",
      "Epoch 26/100\n",
      "24/24 [==============================] - 0s 913us/step - loss: 0.2574 - accuracy: 1.0000\n",
      "Epoch 27/100\n",
      "24/24 [==============================] - 0s 884us/step - loss: 0.2512 - accuracy: 1.0000\n",
      "Epoch 28/100\n",
      "24/24 [==============================] - 0s 876us/step - loss: 0.2452 - accuracy: 1.0000\n",
      "Epoch 29/100\n",
      "24/24 [==============================] - 0s 890us/step - loss: 0.2394 - accuracy: 1.0000\n",
      "Epoch 30/100\n",
      "24/24 [==============================] - 0s 925us/step - loss: 0.2339 - accuracy: 1.0000\n",
      "Epoch 31/100\n",
      "24/24 [==============================] - 0s 858us/step - loss: 0.2285 - accuracy: 1.0000\n",
      "Epoch 32/100\n",
      "24/24 [==============================] - 0s 893us/step - loss: 0.2233 - accuracy: 1.0000\n",
      "Epoch 33/100\n",
      "24/24 [==============================] - 0s 882us/step - loss: 0.2184 - accuracy: 1.0000\n",
      "Epoch 34/100\n",
      "24/24 [==============================] - 0s 1ms/step - loss: 0.2136 - accuracy: 1.0000\n",
      "Epoch 35/100\n",
      "24/24 [==============================] - 0s 915us/step - loss: 0.2090 - accuracy: 1.0000\n",
      "Epoch 36/100\n",
      "24/24 [==============================] - 0s 887us/step - loss: 0.2045 - accuracy: 1.0000\n",
      "Epoch 37/100\n",
      "24/24 [==============================] - 0s 884us/step - loss: 0.2001 - accuracy: 1.0000\n",
      "Epoch 38/100\n",
      "24/24 [==============================] - 0s 874us/step - loss: 0.1960 - accuracy: 1.0000\n",
      "Epoch 39/100\n",
      "24/24 [==============================] - 0s 849us/step - loss: 0.1919 - accuracy: 1.0000\n",
      "Epoch 40/100\n",
      "24/24 [==============================] - 0s 868us/step - loss: 0.1880 - accuracy: 1.0000\n",
      "Epoch 41/100\n",
      "24/24 [==============================] - 0s 912us/step - loss: 0.1841 - accuracy: 1.0000\n",
      "Epoch 42/100\n",
      "24/24 [==============================] - 0s 850us/step - loss: 0.1805 - accuracy: 1.0000\n",
      "Epoch 43/100\n",
      "24/24 [==============================] - 0s 876us/step - loss: 0.1769 - accuracy: 1.0000\n",
      "Epoch 44/100\n",
      "24/24 [==============================] - 0s 889us/step - loss: 0.1734 - accuracy: 1.0000\n",
      "Epoch 45/100\n",
      "24/24 [==============================] - 0s 869us/step - loss: 0.1700 - accuracy: 1.0000\n",
      "Epoch 46/100\n",
      "24/24 [==============================] - 0s 887us/step - loss: 0.1667 - accuracy: 1.0000\n",
      "Epoch 47/100\n",
      "24/24 [==============================] - 0s 863us/step - loss: 0.1635 - accuracy: 1.0000\n",
      "Epoch 48/100\n",
      "24/24 [==============================] - 0s 852us/step - loss: 0.1604 - accuracy: 1.0000\n",
      "Epoch 49/100\n",
      "24/24 [==============================] - 0s 911us/step - loss: 0.1573 - accuracy: 1.0000\n",
      "Epoch 50/100\n",
      "24/24 [==============================] - 0s 927us/step - loss: 0.1544 - accuracy: 1.0000\n",
      "Epoch 51/100\n",
      "24/24 [==============================] - 0s 904us/step - loss: 0.1515 - accuracy: 1.0000\n",
      "Epoch 52/100\n",
      "24/24 [==============================] - 0s 876us/step - loss: 0.1487 - accuracy: 1.0000\n",
      "Epoch 53/100\n",
      "24/24 [==============================] - 0s 874us/step - loss: 0.1460 - accuracy: 1.0000\n",
      "Epoch 54/100\n",
      "24/24 [==============================] - 0s 920us/step - loss: 0.1433 - accuracy: 1.0000\n",
      "Epoch 55/100\n",
      "24/24 [==============================] - 0s 849us/step - loss: 0.1408 - accuracy: 1.0000\n",
      "Epoch 56/100\n",
      "24/24 [==============================] - 0s 864us/step - loss: 0.1383 - accuracy: 1.0000\n",
      "Epoch 57/100\n",
      "24/24 [==============================] - 0s 896us/step - loss: 0.1358 - accuracy: 1.0000\n",
      "Epoch 58/100\n",
      "24/24 [==============================] - 0s 862us/step - loss: 0.1334 - accuracy: 1.0000\n",
      "Epoch 59/100\n",
      "24/24 [==============================] - 0s 1ms/step - loss: 0.1311 - accuracy: 1.0000\n",
      "Epoch 60/100\n",
      "24/24 [==============================] - 0s 988us/step - loss: 0.1288 - accuracy: 1.0000\n",
      "Epoch 61/100\n",
      "24/24 [==============================] - 0s 956us/step - loss: 0.1266 - accuracy: 1.0000\n",
      "Epoch 62/100\n",
      "24/24 [==============================] - 0s 920us/step - loss: 0.1244 - accuracy: 1.0000\n",
      "Epoch 63/100\n",
      "24/24 [==============================] - 0s 919us/step - loss: 0.1223 - accuracy: 1.0000\n",
      "Epoch 64/100\n",
      "24/24 [==============================] - 0s 947us/step - loss: 0.1203 - accuracy: 1.0000\n",
      "Epoch 65/100\n",
      "24/24 [==============================] - 0s 970us/step - loss: 0.1183 - accuracy: 1.0000\n",
      "Epoch 66/100\n",
      "24/24 [==============================] - 0s 1ms/step - loss: 0.1163 - accuracy: 1.0000\n",
      "Epoch 67/100\n",
      "24/24 [==============================] - 0s 1ms/step - loss: 0.1144 - accuracy: 1.0000\n",
      "Epoch 68/100\n",
      "24/24 [==============================] - 0s 1ms/step - loss: 0.1125 - accuracy: 1.0000\n",
      "Epoch 69/100\n",
      "24/24 [==============================] - 0s 995us/step - loss: 0.1107 - accuracy: 1.0000\n",
      "Epoch 70/100\n",
      "24/24 [==============================] - 0s 1ms/step - loss: 0.1089 - accuracy: 1.0000\n",
      "Epoch 71/100\n",
      "24/24 [==============================] - 0s 1ms/step - loss: 0.1071 - accuracy: 1.0000\n",
      "Epoch 72/100\n",
      "24/24 [==============================] - 0s 1ms/step - loss: 0.1054 - accuracy: 1.0000\n",
      "Epoch 73/100\n",
      "24/24 [==============================] - 0s 1ms/step - loss: 0.1037 - accuracy: 1.0000\n",
      "Epoch 74/100\n",
      "24/24 [==============================] - 0s 973us/step - loss: 0.1020 - accuracy: 1.0000\n",
      "Epoch 75/100\n",
      "24/24 [==============================] - 0s 1ms/step - loss: 0.1004 - accuracy: 1.0000\n",
      "Epoch 76/100\n",
      "24/24 [==============================] - 0s 874us/step - loss: 0.0988 - accuracy: 1.0000\n",
      "Epoch 77/100\n",
      "24/24 [==============================] - 0s 882us/step - loss: 0.0973 - accuracy: 1.0000\n",
      "Epoch 78/100\n",
      "24/24 [==============================] - 0s 889us/step - loss: 0.0957 - accuracy: 1.0000\n",
      "Epoch 79/100\n",
      "24/24 [==============================] - 0s 884us/step - loss: 0.0943 - accuracy: 1.0000\n",
      "Epoch 80/100\n",
      "24/24 [==============================] - 0s 888us/step - loss: 0.0928 - accuracy: 1.0000\n",
      "Epoch 81/100\n",
      "24/24 [==============================] - 0s 899us/step - loss: 0.0914 - accuracy: 1.0000\n",
      "Epoch 82/100\n",
      "24/24 [==============================] - 0s 910us/step - loss: 0.0900 - accuracy: 1.0000\n",
      "Epoch 83/100\n",
      "24/24 [==============================] - 0s 877us/step - loss: 0.0886 - accuracy: 1.0000\n",
      "Epoch 84/100\n",
      "24/24 [==============================] - 0s 861us/step - loss: 0.0873 - accuracy: 1.0000\n",
      "Epoch 85/100\n",
      "24/24 [==============================] - 0s 869us/step - loss: 0.0860 - accuracy: 1.0000\n",
      "Epoch 86/100\n",
      "24/24 [==============================] - 0s 892us/step - loss: 0.0847 - accuracy: 1.0000\n",
      "Epoch 87/100\n",
      "24/24 [==============================] - 0s 869us/step - loss: 0.0835 - accuracy: 1.0000\n",
      "Epoch 88/100\n",
      "24/24 [==============================] - 0s 872us/step - loss: 0.0822 - accuracy: 1.0000\n",
      "Epoch 89/100\n",
      "24/24 [==============================] - 0s 895us/step - loss: 0.0810 - accuracy: 1.0000\n",
      "Epoch 90/100\n",
      "24/24 [==============================] - 0s 895us/step - loss: 0.0798 - accuracy: 1.0000\n",
      "Epoch 91/100\n",
      "24/24 [==============================] - 0s 863us/step - loss: 0.0786 - accuracy: 1.0000\n",
      "Epoch 92/100\n",
      "24/24 [==============================] - 0s 886us/step - loss: 0.0775 - accuracy: 1.0000\n",
      "Epoch 93/100\n",
      "24/24 [==============================] - 0s 887us/step - loss: 0.0764 - accuracy: 1.0000\n",
      "Epoch 94/100\n",
      "24/24 [==============================] - 0s 864us/step - loss: 0.0753 - accuracy: 1.0000\n",
      "Epoch 95/100\n",
      "24/24 [==============================] - 0s 878us/step - loss: 0.0742 - accuracy: 1.0000\n",
      "Epoch 96/100\n",
      "24/24 [==============================] - 0s 871us/step - loss: 0.0731 - accuracy: 1.0000\n",
      "Epoch 97/100\n",
      "24/24 [==============================] - 0s 873us/step - loss: 0.0721 - accuracy: 1.0000\n",
      "Epoch 98/100\n",
      "24/24 [==============================] - 0s 890us/step - loss: 0.0711 - accuracy: 1.0000\n",
      "Epoch 99/100\n",
      "24/24 [==============================] - 0s 897us/step - loss: 0.0700 - accuracy: 1.0000\n",
      "Epoch 100/100\n",
      "24/24 [==============================] - 0s 942us/step - loss: 0.0691 - accuracy: 1.0000\n"
     ]
    }
   ],
   "source": [
    "# Fit the model to the training data\n",
    "fit_model = nn_model.fit(X_train_scaled, y_train, epochs=100)\n"
   ]
  },
  {
   "cell_type": "code",
   "execution_count": 11,
   "id": "d0423c55",
   "metadata": {},
   "outputs": [
    {
     "data": {
      "text/plain": [
       "<AxesSubplot:>"
      ]
     },
     "execution_count": 11,
     "metadata": {},
     "output_type": "execute_result"
    },
    {
     "data": {
      "image/png": "[encoded data removed]",
      "text/plain": [
       "<Figure size 432x288 with 1 Axes>"
      ]
     },
     "metadata": {
      "needs_background": "light"
     },
     "output_type": "display_data"
    }
   ],
   "source": [
    "# Create a DataFrame containing training history\n",
    "history_df = pd.DataFrame(fit_model.history, index=range(1,len(fit_model.history[\"loss\"])+1))\n",
    "\n",
    "# Plot the loss\n",
    "history_df.plot(y=\"loss\")"
   ]
  },
  {
   "cell_type": "code",
   "execution_count": 12,
   "id": "ad20e323",
   "metadata": {},
   "outputs": [
    {
     "data": {
      "text/plain": [
       "<AxesSubplot:>"
      ]
     },
     "execution_count": 12,
     "metadata": {},
     "output_type": "execute_result"
    },
    {
     "data": {
      "image/png": "[encoded data removed]",
      "text/plain": [
       "<Figure size 432x288 with 1 Axes>"
      ]
     },
     "metadata": {
      "needs_background": "light"
     },
     "output_type": "display_data"
    }
   ],
   "source": [
    "# Plot the accuracy\n",
    "history_df.plot(y=\"accuracy\")\n"
   ]
  },
  {
   "cell_type": "code",
   "execution_count": 13,
   "id": "7967c42f",
   "metadata": {},
   "outputs": [
    {
     "name": "stdout",
     "output_type": "stream",
     "text": [
      "8/8 - 0s - loss: 0.0647 - accuracy: 1.0000\n",
      "Loss: 0.06465113162994385, Accuracy: 1.0\n"
     ]
    }
   ],
   "source": [
    "# Evaluate the model using the test data\n",
    "model_loss, model_accuracy = nn_model.evaluate(X_test_scaled,y_test,verbose=2)\n",
    "print(f\"Loss: {model_loss}, Accuracy: {model_accuracy}\")\n"
   ]
  },
  {
   "cell_type": "code",
   "execution_count": 14,
   "id": "a8ab161e",
   "metadata": {},
   "outputs": [
    {
     "data": {
      "text/plain": [
       "array([[0],\n",
       "       [1],\n",
       "       [0],\n",
       "       [1],\n",
       "       [0],\n",
       "       [0],\n",
       "       [1],\n",
       "       [1],\n",
       "       [1],\n",
       "       [0]], dtype=int32)"
      ]
     },
     "execution_count": 14,
     "metadata": {},
     "output_type": "execute_result"
    }
   ],
   "source": [
    "# Predict the classification of a new set of blob data\n",
    "new_X, new_Y = make_blobs(n_samples=10, centers=2, n_features=2, random_state=78)\n",
    "new_X_scaled = X_scaler.transform(new_X)\n",
    "(nn_model.predict(new_X_scaled) > 0.5).astype(\"int32\")\n"
   ]
  },
  {
   "cell_type": "code",
   "execution_count": 15,
   "id": "13492709",
   "metadata": {},
   "outputs": [
    {
     "data": {
      "text/plain": [
       "<AxesSubplot:xlabel='Feature 1', ylabel='Feature 2'>"
      ]
     },
     "execution_count": 15,
     "metadata": {},
     "output_type": "execute_result"
    },
    {
     "data": {
      "image/png": "[encoded data removed]",
      "text/plain": [
       "<Figure size 432x288 with 2 Axes>"
      ]
     },
     "metadata": {
      "needs_background": "light"
     },
     "output_type": "display_data"
    }
   ],
   "source": [
    "from sklearn.datasets import make_moons\n",
    "\n",
    "# Creating dummy nonlinear data\n",
    "X_moons, y_moons = make_moons(n_samples=1000, noise=0.08, random_state=78)\n",
    "\n",
    "# Transforming y_moons to a vertical vector\n",
    "y_moons = y_moons.reshape(-1, 1)\n",
    "\n",
    "# Creating a DataFrame to plot the nonlinear dummy data\n",
    "df_moons = pd.DataFrame(X_moons, columns=[\"Feature 1\", \"Feature 2\"])\n",
    "df_moons[\"Target\"] = y_moons\n",
    "\n",
    "# Plot the nonlinear dummy data\n",
    "df_moons.plot.scatter(x=\"Feature 1\",y=\"Feature 2\", c=\"Target\",colormap=\"winter\")\n"
   ]
  },
  {
   "cell_type": "code",
   "execution_count": 16,
   "id": "f20219c7",
   "metadata": {},
   "outputs": [],
   "source": [
    "# Create training and testing sets\n",
    "X_moon_train, X_moon_test, y_moon_train, y_moon_test = train_test_split(\n",
    "    X_moons, y_moons, random_state=78\n",
    ")\n",
    "\n",
    "# Create the scaler instance\n",
    "X_moon_scaler = skl.preprocessing.StandardScaler()\n",
    "\n",
    "# Fit the scaler\n",
    "X_moon_scaler.fit(X_moon_train)\n",
    "\n",
    "# Scale the data\n",
    "X_moon_train_scaled = X_moon_scaler.transform(X_moon_train)\n",
    "X_moon_test_scaled = X_moon_scaler.transform(X_moon_test)\n"
   ]
  },
  {
   "cell_type": "code",
   "execution_count": 17,
   "id": "2bb29fc9",
   "metadata": {},
   "outputs": [
    {
     "name": "stdout",
     "output_type": "stream",
     "text": [
      "Epoch 1/100\n",
      "24/24 [==============================] - 0s 1ms/step - loss: 0.9240 - accuracy: 0.5520\n",
      "Epoch 2/100\n",
      "24/24 [==============================] - 0s 1ms/step - loss: 0.7858 - accuracy: 0.5867\n",
      "Epoch 3/100\n",
      "24/24 [==============================] - 0s 1ms/step - loss: 0.6992 - accuracy: 0.6253\n",
      "Epoch 4/100\n",
      "24/24 [==============================] - 0s 1ms/step - loss: 0.6381 - accuracy: 0.6493\n",
      "Epoch 5/100\n",
      "24/24 [==============================] - 0s 1ms/step - loss: 0.5930 - accuracy: 0.6653\n",
      "Epoch 6/100\n",
      "24/24 [==============================] - 0s 1ms/step - loss: 0.5572 - accuracy: 0.6800\n",
      "Epoch 7/100\n",
      "24/24 [==============================] - 0s 1ms/step - loss: 0.5272 - accuracy: 0.7000\n",
      "Epoch 8/100\n",
      "24/24 [==============================] - 0s 1ms/step - loss: 0.5016 - accuracy: 0.7053\n",
      "Epoch 9/100\n",
      "24/24 [==============================] - 0s 1ms/step - loss: 0.4792 - accuracy: 0.7200\n",
      "Epoch 10/100\n",
      "24/24 [==============================] - 0s 1ms/step - loss: 0.4598 - accuracy: 0.7347\n",
      "Epoch 11/100\n",
      "24/24 [==============================] - 0s 1ms/step - loss: 0.4417 - accuracy: 0.7507\n",
      "Epoch 12/100\n",
      "24/24 [==============================] - 0s 1ms/step - loss: 0.4260 - accuracy: 0.7613\n",
      "Epoch 13/100\n",
      "24/24 [==============================] - 0s 1ms/step - loss: 0.4120 - accuracy: 0.7760\n",
      "Epoch 14/100\n",
      "24/24 [==============================] - 0s 1ms/step - loss: 0.3991 - accuracy: 0.7800\n",
      "Epoch 15/100\n",
      "24/24 [==============================] - 0s 1ms/step - loss: 0.3872 - accuracy: 0.7867\n",
      "Epoch 16/100\n",
      "24/24 [==============================] - 0s 1ms/step - loss: 0.3768 - accuracy: 0.7920\n",
      "Epoch 17/100\n",
      "24/24 [==============================] - 0s 1ms/step - loss: 0.3669 - accuracy: 0.7987\n",
      "Epoch 18/100\n",
      "24/24 [==============================] - 0s 1ms/step - loss: 0.3580 - accuracy: 0.8053\n",
      "Epoch 19/100\n",
      "24/24 [==============================] - 0s 1ms/step - loss: 0.3496 - accuracy: 0.8107\n",
      "Epoch 20/100\n",
      "24/24 [==============================] - 0s 1ms/step - loss: 0.3420 - accuracy: 0.8173\n",
      "Epoch 21/100\n",
      "24/24 [==============================] - 0s 1ms/step - loss: 0.3350 - accuracy: 0.8267\n",
      "Epoch 22/100\n",
      "24/24 [==============================] - 0s 1ms/step - loss: 0.3288 - accuracy: 0.8320\n",
      "Epoch 23/100\n",
      "24/24 [==============================] - 0s 2ms/step - loss: 0.3232 - accuracy: 0.8413\n",
      "Epoch 24/100\n",
      "24/24 [==============================] - 0s 1ms/step - loss: 0.3182 - accuracy: 0.8440\n",
      "Epoch 25/100\n",
      "24/24 [==============================] - 0s 1ms/step - loss: 0.3139 - accuracy: 0.8467\n",
      "Epoch 26/100\n",
      "24/24 [==============================] - 0s 1ms/step - loss: 0.3100 - accuracy: 0.8507\n",
      "Epoch 27/100\n",
      "24/24 [==============================] - 0s 1ms/step - loss: 0.3066 - accuracy: 0.8547\n",
      "Epoch 28/100\n",
      "24/24 [==============================] - 0s 1ms/step - loss: 0.3034 - accuracy: 0.8587\n",
      "Epoch 29/100\n",
      "24/24 [==============================] - 0s 1ms/step - loss: 0.3005 - accuracy: 0.8640\n",
      "Epoch 30/100\n",
      "24/24 [==============================] - 0s 1ms/step - loss: 0.2979 - accuracy: 0.8667\n",
      "Epoch 31/100\n",
      "24/24 [==============================] - 0s 1ms/step - loss: 0.2956 - accuracy: 0.8680\n",
      "Epoch 32/100\n",
      "24/24 [==============================] - 0s 1ms/step - loss: 0.2935 - accuracy: 0.8680\n",
      "Epoch 33/100\n",
      "24/24 [==============================] - 0s 1ms/step - loss: 0.2917 - accuracy: 0.8707\n",
      "Epoch 34/100\n",
      "24/24 [==============================] - 0s 1ms/step - loss: 0.2898 - accuracy: 0.8707\n",
      "Epoch 35/100\n",
      "24/24 [==============================] - 0s 1ms/step - loss: 0.2881 - accuracy: 0.8707\n",
      "Epoch 36/100\n",
      "24/24 [==============================] - 0s 1ms/step - loss: 0.2867 - accuracy: 0.8720\n",
      "Epoch 37/100\n",
      "24/24 [==============================] - 0s 1ms/step - loss: 0.2852 - accuracy: 0.8720\n",
      "Epoch 38/100\n",
      "24/24 [==============================] - 0s 1ms/step - loss: 0.2838 - accuracy: 0.8747\n",
      "Epoch 39/100\n",
      "24/24 [==============================] - 0s 1ms/step - loss: 0.2826 - accuracy: 0.8760\n",
      "Epoch 40/100\n",
      "24/24 [==============================] - 0s 1ms/step - loss: 0.2814 - accuracy: 0.8773\n",
      "Epoch 41/100\n",
      "24/24 [==============================] - 0s 1ms/step - loss: 0.2803 - accuracy: 0.8787\n",
      "Epoch 42/100\n",
      "24/24 [==============================] - 0s 1ms/step - loss: 0.2793 - accuracy: 0.8800\n",
      "Epoch 43/100\n",
      "24/24 [==============================] - 0s 1ms/step - loss: 0.2782 - accuracy: 0.8813\n",
      "Epoch 44/100\n",
      "24/24 [==============================] - 0s 1ms/step - loss: 0.2773 - accuracy: 0.8827\n",
      "Epoch 45/100\n",
      "24/24 [==============================] - 0s 1ms/step - loss: 0.2764 - accuracy: 0.8853\n",
      "Epoch 46/100\n",
      "24/24 [==============================] - 0s 1ms/step - loss: 0.2755 - accuracy: 0.8880\n",
      "Epoch 47/100\n",
      "24/24 [==============================] - 0s 1ms/step - loss: 0.2747 - accuracy: 0.8880\n",
      "Epoch 48/100\n",
      "24/24 [==============================] - 0s 1ms/step - loss: 0.2739 - accuracy: 0.8893\n",
      "Epoch 49/100\n",
      "24/24 [==============================] - 0s 1ms/step - loss: 0.2731 - accuracy: 0.8893\n",
      "Epoch 50/100\n",
      "24/24 [==============================] - 0s 1ms/step - loss: 0.2724 - accuracy: 0.8893\n",
      "Epoch 51/100\n",
      "24/24 [==============================] - 0s 1ms/step - loss: 0.2718 - accuracy: 0.8920\n",
      "Epoch 52/100\n",
      "24/24 [==============================] - 0s 1ms/step - loss: 0.2711 - accuracy: 0.8920\n",
      "Epoch 53/100\n",
      "24/24 [==============================] - 0s 1ms/step - loss: 0.2706 - accuracy: 0.8920\n",
      "Epoch 54/100\n",
      "24/24 [==============================] - 0s 1ms/step - loss: 0.2700 - accuracy: 0.8920\n",
      "Epoch 55/100\n",
      "24/24 [==============================] - 0s 1ms/step - loss: 0.2693 - accuracy: 0.8933\n",
      "Epoch 56/100\n",
      "24/24 [==============================] - 0s 1ms/step - loss: 0.2689 - accuracy: 0.8933\n",
      "Epoch 57/100\n",
      "24/24 [==============================] - 0s 2ms/step - loss: 0.2683 - accuracy: 0.8933\n",
      "Epoch 58/100\n",
      "24/24 [==============================] - 0s 1ms/step - loss: 0.2678 - accuracy: 0.8933\n",
      "Epoch 59/100\n",
      "24/24 [==============================] - 0s 1ms/step - loss: 0.2674 - accuracy: 0.8933\n",
      "Epoch 60/100\n",
      "24/24 [==============================] - 0s 1ms/step - loss: 0.2668 - accuracy: 0.8933\n",
      "Epoch 61/100\n",
      "24/24 [==============================] - 0s 1ms/step - loss: 0.2664 - accuracy: 0.8933\n",
      "Epoch 62/100\n",
      "24/24 [==============================] - 0s 1ms/step - loss: 0.2660 - accuracy: 0.8933\n",
      "Epoch 63/100\n",
      "24/24 [==============================] - 0s 1ms/step - loss: 0.2656 - accuracy: 0.8933\n",
      "Epoch 64/100\n",
      "24/24 [==============================] - 0s 1ms/step - loss: 0.2652 - accuracy: 0.8920\n",
      "Epoch 65/100\n",
      "24/24 [==============================] - 0s 1ms/step - loss: 0.2648 - accuracy: 0.8920\n",
      "Epoch 66/100\n",
      "24/24 [==============================] - 0s 1ms/step - loss: 0.2644 - accuracy: 0.8920\n",
      "Epoch 67/100\n",
      "24/24 [==============================] - 0s 1ms/step - loss: 0.2640 - accuracy: 0.8920\n",
      "Epoch 68/100\n",
      "24/24 [==============================] - 0s 1ms/step - loss: 0.2637 - accuracy: 0.8907\n",
      "Epoch 69/100\n",
      "24/24 [==============================] - 0s 1ms/step - loss: 0.2634 - accuracy: 0.8907\n",
      "Epoch 70/100\n",
      "24/24 [==============================] - 0s 1ms/step - loss: 0.2630 - accuracy: 0.8907\n",
      "Epoch 71/100\n",
      "24/24 [==============================] - 0s 1ms/step - loss: 0.2627 - accuracy: 0.8907\n",
      "Epoch 72/100\n",
      "24/24 [==============================] - 0s 1ms/step - loss: 0.2624 - accuracy: 0.8920\n",
      "Epoch 73/100\n",
      "24/24 [==============================] - 0s 1ms/step - loss: 0.2621 - accuracy: 0.8907\n",
      "Epoch 74/100\n",
      "24/24 [==============================] - 0s 2ms/step - loss: 0.2618 - accuracy: 0.8920\n",
      "Epoch 75/100\n",
      "24/24 [==============================] - 0s 1ms/step - loss: 0.2616 - accuracy: 0.8920\n",
      "Epoch 76/100\n",
      "24/24 [==============================] - 0s 1ms/step - loss: 0.2613 - accuracy: 0.8920\n",
      "Epoch 77/100\n",
      "24/24 [==============================] - 0s 1ms/step - loss: 0.2610 - accuracy: 0.8920\n",
      "Epoch 78/100\n",
      "24/24 [==============================] - 0s 1ms/step - loss: 0.2607 - accuracy: 0.8920\n",
      "Epoch 79/100\n",
      "24/24 [==============================] - 0s 1ms/step - loss: 0.2607 - accuracy: 0.8920\n",
      "Epoch 80/100\n",
      "24/24 [==============================] - 0s 1ms/step - loss: 0.2603 - accuracy: 0.8920\n",
      "Epoch 81/100\n",
      "24/24 [==============================] - 0s 1ms/step - loss: 0.2600 - accuracy: 0.8920\n",
      "Epoch 82/100\n",
      "24/24 [==============================] - 0s 1ms/step - loss: 0.2598 - accuracy: 0.8920\n",
      "Epoch 83/100\n"
     ]
    },
    {
     "name": "stdout",
     "output_type": "stream",
     "text": [
      "24/24 [==============================] - 0s 1ms/step - loss: 0.2596 - accuracy: 0.8920\n",
      "Epoch 84/100\n",
      "24/24 [==============================] - 0s 1ms/step - loss: 0.2594 - accuracy: 0.8920\n",
      "Epoch 85/100\n",
      "24/24 [==============================] - 0s 1ms/step - loss: 0.2591 - accuracy: 0.8920\n",
      "Epoch 86/100\n",
      "24/24 [==============================] - 0s 1ms/step - loss: 0.2590 - accuracy: 0.8920\n",
      "Epoch 87/100\n",
      "24/24 [==============================] - 0s 1ms/step - loss: 0.2588 - accuracy: 0.8920\n",
      "Epoch 88/100\n",
      "24/24 [==============================] - 0s 1ms/step - loss: 0.2586 - accuracy: 0.8920\n",
      "Epoch 89/100\n",
      "24/24 [==============================] - 0s 1ms/step - loss: 0.2584 - accuracy: 0.8920\n",
      "Epoch 90/100\n",
      "24/24 [==============================] - 0s 2ms/step - loss: 0.2582 - accuracy: 0.8920\n",
      "Epoch 91/100\n",
      "24/24 [==============================] - 0s 2ms/step - loss: 0.2581 - accuracy: 0.8920\n",
      "Epoch 92/100\n",
      "24/24 [==============================] - 0s 2ms/step - loss: 0.2579 - accuracy: 0.8920\n",
      "Epoch 93/100\n",
      "24/24 [==============================] - 0s 2ms/step - loss: 0.2577 - accuracy: 0.8920\n",
      "Epoch 94/100\n",
      "24/24 [==============================] - 0s 1ms/step - loss: 0.2576 - accuracy: 0.8920\n",
      "Epoch 95/100\n",
      "24/24 [==============================] - 0s 1ms/step - loss: 0.2576 - accuracy: 0.8920\n",
      "Epoch 96/100\n",
      "24/24 [==============================] - 0s 2ms/step - loss: 0.2573 - accuracy: 0.8920\n",
      "Epoch 97/100\n",
      "24/24 [==============================] - 0s 1ms/step - loss: 0.2571 - accuracy: 0.8920\n",
      "Epoch 98/100\n",
      "24/24 [==============================] - 0s 1ms/step - loss: 0.2570 - accuracy: 0.8920\n",
      "Epoch 99/100\n",
      "24/24 [==============================] - 0s 1ms/step - loss: 0.2569 - accuracy: 0.8920\n",
      "Epoch 100/100\n",
      "24/24 [==============================] - 0s 1ms/step - loss: 0.2567 - accuracy: 0.8920\n"
     ]
    }
   ],
   "source": [
    "# Training the model with the nonlinear data\n",
    "model_moon = nn_model.fit(X_moon_train_scaled, y_moon_train, epochs=100, shuffle=True)\n"
   ]
  },
  {
   "cell_type": "code",
   "execution_count": 18,
   "id": "6893b8e3",
   "metadata": {},
   "outputs": [
    {
     "data": {
      "text/plain": [
       "<AxesSubplot:>"
      ]
     },
     "execution_count": 18,
     "metadata": {},
     "output_type": "execute_result"
    },
    {
     "data": {
      "image/png": "[encoded data removed]",
      "text/plain": [
       "<Figure size 432x288 with 1 Axes>"
      ]
     },
     "metadata": {
      "needs_background": "light"
     },
     "output_type": "display_data"
    }
   ],
   "source": [
    "# Create a DataFrame containing training history\n",
    "history_df = pd.DataFrame(model_moon.history, index=range(1,len(model_moon.history[\"loss\"])+1))\n",
    "\n",
    "# Plot the loss\n",
    "history_df.plot(y=\"loss\")"
   ]
  },
  {
   "cell_type": "code",
   "execution_count": 19,
   "id": "22a870fc",
   "metadata": {},
   "outputs": [
    {
     "data": {
      "text/plain": [
       "<AxesSubplot:>"
      ]
     },
     "execution_count": 19,
     "metadata": {},
     "output_type": "execute_result"
    },
    {
     "data": {
      "image/png": "[encoded data removed]",
      "text/plain": [
       "<Figure size 432x288 with 1 Axes>"
      ]
     },
     "metadata": {
      "needs_background": "light"
     },
     "output_type": "display_data"
    }
   ],
   "source": [
    "# Plot the loss\n",
    "history_df.plot(y=\"accuracy\")\n"
   ]
  },
  {
   "cell_type": "code",
   "execution_count": 20,
   "id": "8fb7ba42",
   "metadata": {},
   "outputs": [],
   "source": [
    "# Generate our new Sequential model\n",
    "new_model = tf.keras.models.Sequential()"
   ]
  },
  {
   "cell_type": "code",
   "execution_count": 21,
   "id": "e5882171",
   "metadata": {},
   "outputs": [],
   "source": [
    "# Add the input and hidden layer\n",
    "number_inputs = 2\n",
    "number_hidden_nodes = 6\n",
    "\n",
    "new_model.add(tf.keras.layers.Dense(\n",
    "    units=number_hidden_nodes, \n",
    "    activation=\"relu\", \n",
    "    input_dim=number_inputs))\n",
    "\n",
    "# Add the output layer that uses a probability activation function\n",
    "new_model.add(tf.keras.layers.Dense(units=1, activation=\"sigmoid\"))\n"
   ]
  },
  {
   "cell_type": "code",
   "execution_count": 22,
   "id": "c3a9611e",
   "metadata": {},
   "outputs": [
    {
     "name": "stdout",
     "output_type": "stream",
     "text": [
      "Epoch 1/100\n",
      "24/24 [==============================] - 0s 976us/step - loss: 0.6582 - accuracy: 0.5813\n",
      "Epoch 2/100\n",
      "24/24 [==============================] - 0s 962us/step - loss: 0.6017 - accuracy: 0.7920\n",
      "Epoch 3/100\n",
      "24/24 [==============================] - 0s 1ms/step - loss: 0.5538 - accuracy: 0.8413\n",
      "Epoch 4/100\n",
      "24/24 [==============================] - 0s 948us/step - loss: 0.5116 - accuracy: 0.8627\n",
      "Epoch 5/100\n",
      "24/24 [==============================] - 0s 1ms/step - loss: 0.4766 - accuracy: 0.8707\n",
      "Epoch 6/100\n",
      "24/24 [==============================] - 0s 989us/step - loss: 0.4458 - accuracy: 0.8827\n",
      "Epoch 7/100\n",
      "24/24 [==============================] - 0s 990us/step - loss: 0.4192 - accuracy: 0.8920\n",
      "Epoch 8/100\n",
      "24/24 [==============================] - 0s 965us/step - loss: 0.3963 - accuracy: 0.8893\n",
      "Epoch 9/100\n",
      "24/24 [==============================] - 0s 1ms/step - loss: 0.3762 - accuracy: 0.8893\n",
      "Epoch 10/100\n",
      "24/24 [==============================] - 0s 985us/step - loss: 0.3590 - accuracy: 0.8920\n",
      "Epoch 11/100\n",
      "24/24 [==============================] - 0s 967us/step - loss: 0.3441 - accuracy: 0.8920\n",
      "Epoch 12/100\n",
      "24/24 [==============================] - 0s 1ms/step - loss: 0.3312 - accuracy: 0.8947\n",
      "Epoch 13/100\n",
      "24/24 [==============================] - 0s 1000us/step - loss: 0.3198 - accuracy: 0.8933\n",
      "Epoch 14/100\n",
      "24/24 [==============================] - 0s 984us/step - loss: 0.3098 - accuracy: 0.8947\n",
      "Epoch 15/100\n",
      "24/24 [==============================] - 0s 1ms/step - loss: 0.3011 - accuracy: 0.8933\n",
      "Epoch 16/100\n",
      "24/24 [==============================] - 0s 946us/step - loss: 0.2936 - accuracy: 0.8933\n",
      "Epoch 17/100\n",
      "24/24 [==============================] - 0s 1ms/step - loss: 0.2867 - accuracy: 0.8933\n",
      "Epoch 18/100\n",
      "24/24 [==============================] - 0s 1ms/step - loss: 0.2808 - accuracy: 0.8933\n",
      "Epoch 19/100\n",
      "24/24 [==============================] - 0s 1ms/step - loss: 0.2755 - accuracy: 0.8933\n",
      "Epoch 20/100\n",
      "24/24 [==============================] - 0s 1ms/step - loss: 0.2709 - accuracy: 0.8933\n",
      "Epoch 21/100\n",
      "24/24 [==============================] - 0s 1ms/step - loss: 0.2666 - accuracy: 0.8947\n",
      "Epoch 22/100\n",
      "24/24 [==============================] - 0s 1ms/step - loss: 0.2627 - accuracy: 0.8947\n",
      "Epoch 23/100\n",
      "24/24 [==============================] - 0s 992us/step - loss: 0.2593 - accuracy: 0.8960\n",
      "Epoch 24/100\n",
      "24/24 [==============================] - 0s 1ms/step - loss: 0.2561 - accuracy: 0.8960\n",
      "Epoch 25/100\n",
      "24/24 [==============================] - 0s 1ms/step - loss: 0.2531 - accuracy: 0.8960\n",
      "Epoch 26/100\n",
      "24/24 [==============================] - 0s 993us/step - loss: 0.2504 - accuracy: 0.8960\n",
      "Epoch 27/100\n",
      "24/24 [==============================] - 0s 1ms/step - loss: 0.2479 - accuracy: 0.8973\n",
      "Epoch 28/100\n",
      "24/24 [==============================] - 0s 964us/step - loss: 0.2456 - accuracy: 0.8973\n",
      "Epoch 29/100\n",
      "24/24 [==============================] - 0s 945us/step - loss: 0.2434 - accuracy: 0.8973\n",
      "Epoch 30/100\n",
      "24/24 [==============================] - 0s 998us/step - loss: 0.2414 - accuracy: 0.8987\n",
      "Epoch 31/100\n",
      "24/24 [==============================] - 0s 1ms/step - loss: 0.2396 - accuracy: 0.8987\n",
      "Epoch 32/100\n",
      "24/24 [==============================] - 0s 985us/step - loss: 0.2379 - accuracy: 0.8987\n",
      "Epoch 33/100\n",
      "24/24 [==============================] - 0s 964us/step - loss: 0.2364 - accuracy: 0.8987\n",
      "Epoch 34/100\n",
      "24/24 [==============================] - 0s 936us/step - loss: 0.2348 - accuracy: 0.8987\n",
      "Epoch 35/100\n",
      "24/24 [==============================] - 0s 1ms/step - loss: 0.2335 - accuracy: 0.9000\n",
      "Epoch 36/100\n",
      "24/24 [==============================] - 0s 932us/step - loss: 0.2322 - accuracy: 0.9000\n",
      "Epoch 37/100\n",
      "24/24 [==============================] - 0s 1ms/step - loss: 0.2309 - accuracy: 0.9013\n",
      "Epoch 38/100\n",
      "24/24 [==============================] - 0s 930us/step - loss: 0.2298 - accuracy: 0.9027\n",
      "Epoch 39/100\n",
      "24/24 [==============================] - 0s 895us/step - loss: 0.2287 - accuracy: 0.9040\n",
      "Epoch 40/100\n",
      "24/24 [==============================] - 0s 883us/step - loss: 0.2275 - accuracy: 0.9040\n",
      "Epoch 41/100\n",
      "24/24 [==============================] - 0s 963us/step - loss: 0.2265 - accuracy: 0.9040\n",
      "Epoch 42/100\n",
      "24/24 [==============================] - 0s 923us/step - loss: 0.2254 - accuracy: 0.9053\n",
      "Epoch 43/100\n",
      "24/24 [==============================] - 0s 828us/step - loss: 0.2244 - accuracy: 0.9053\n",
      "Epoch 44/100\n",
      "24/24 [==============================] - 0s 928us/step - loss: 0.2234 - accuracy: 0.9053\n",
      "Epoch 45/100\n",
      "24/24 [==============================] - 0s 934us/step - loss: 0.2225 - accuracy: 0.9053\n",
      "Epoch 46/100\n",
      "24/24 [==============================] - 0s 928us/step - loss: 0.2215 - accuracy: 0.9053\n",
      "Epoch 47/100\n",
      "24/24 [==============================] - 0s 925us/step - loss: 0.2206 - accuracy: 0.9053\n",
      "Epoch 48/100\n",
      "24/24 [==============================] - 0s 903us/step - loss: 0.2198 - accuracy: 0.9053\n",
      "Epoch 49/100\n",
      "24/24 [==============================] - 0s 890us/step - loss: 0.2190 - accuracy: 0.9053\n",
      "Epoch 50/100\n",
      "24/24 [==============================] - 0s 893us/step - loss: 0.2180 - accuracy: 0.9053\n",
      "Epoch 51/100\n",
      "24/24 [==============================] - 0s 940us/step - loss: 0.2170 - accuracy: 0.9053\n",
      "Epoch 52/100\n",
      "24/24 [==============================] - 0s 930us/step - loss: 0.2162 - accuracy: 0.9053\n",
      "Epoch 53/100\n",
      "24/24 [==============================] - 0s 921us/step - loss: 0.2154 - accuracy: 0.9053\n",
      "Epoch 54/100\n",
      "24/24 [==============================] - 0s 890us/step - loss: 0.2144 - accuracy: 0.9067\n",
      "Epoch 55/100\n",
      "24/24 [==============================] - 0s 889us/step - loss: 0.2136 - accuracy: 0.9067\n",
      "Epoch 56/100\n",
      "24/24 [==============================] - 0s 907us/step - loss: 0.2127 - accuracy: 0.9080\n",
      "Epoch 57/100\n",
      "24/24 [==============================] - 0s 943us/step - loss: 0.2117 - accuracy: 0.9080\n",
      "Epoch 58/100\n",
      "24/24 [==============================] - 0s 936us/step - loss: 0.2108 - accuracy: 0.9080\n",
      "Epoch 59/100\n",
      "24/24 [==============================] - 0s 915us/step - loss: 0.2100 - accuracy: 0.9080\n",
      "Epoch 60/100\n",
      "24/24 [==============================] - 0s 924us/step - loss: 0.2090 - accuracy: 0.9080\n",
      "Epoch 61/100\n",
      "24/24 [==============================] - 0s 905us/step - loss: 0.2080 - accuracy: 0.9080\n",
      "Epoch 62/100\n",
      "24/24 [==============================] - 0s 862us/step - loss: 0.2070 - accuracy: 0.9093\n",
      "Epoch 63/100\n",
      "24/24 [==============================] - 0s 942us/step - loss: 0.2060 - accuracy: 0.9093\n",
      "Epoch 64/100\n",
      "24/24 [==============================] - 0s 921us/step - loss: 0.2050 - accuracy: 0.9107\n",
      "Epoch 65/100\n",
      "24/24 [==============================] - 0s 952us/step - loss: 0.2041 - accuracy: 0.9107\n",
      "Epoch 66/100\n",
      "24/24 [==============================] - 0s 1ms/step - loss: 0.2031 - accuracy: 0.9107\n",
      "Epoch 67/100\n",
      "24/24 [==============================] - 0s 938us/step - loss: 0.2021 - accuracy: 0.9107\n",
      "Epoch 68/100\n",
      "24/24 [==============================] - 0s 979us/step - loss: 0.2011 - accuracy: 0.9120\n",
      "Epoch 69/100\n",
      "24/24 [==============================] - 0s 921us/step - loss: 0.2001 - accuracy: 0.9147\n",
      "Epoch 70/100\n",
      "24/24 [==============================] - 0s 959us/step - loss: 0.1990 - accuracy: 0.9160\n",
      "Epoch 71/100\n",
      "24/24 [==============================] - 0s 947us/step - loss: 0.1980 - accuracy: 0.9160\n",
      "Epoch 72/100\n",
      "24/24 [==============================] - 0s 974us/step - loss: 0.1970 - accuracy: 0.9160\n",
      "Epoch 73/100\n",
      "24/24 [==============================] - 0s 985us/step - loss: 0.1960 - accuracy: 0.9160\n",
      "Epoch 74/100\n",
      "24/24 [==============================] - 0s 987us/step - loss: 0.1951 - accuracy: 0.9173\n",
      "Epoch 75/100\n",
      "24/24 [==============================] - 0s 1ms/step - loss: 0.1939 - accuracy: 0.9187\n",
      "Epoch 76/100\n",
      "24/24 [==============================] - 0s 1ms/step - loss: 0.1928 - accuracy: 0.9187\n",
      "Epoch 77/100\n",
      "24/24 [==============================] - 0s 993us/step - loss: 0.1917 - accuracy: 0.9187\n",
      "Epoch 78/100\n",
      "24/24 [==============================] - 0s 986us/step - loss: 0.1907 - accuracy: 0.9187\n",
      "Epoch 79/100\n",
      "24/24 [==============================] - 0s 985us/step - loss: 0.1896 - accuracy: 0.9187\n",
      "Epoch 80/100\n",
      "24/24 [==============================] - 0s 882us/step - loss: 0.1884 - accuracy: 0.9200\n",
      "Epoch 81/100\n"
     ]
    },
    {
     "name": "stdout",
     "output_type": "stream",
     "text": [
      "24/24 [==============================] - 0s 980us/step - loss: 0.1874 - accuracy: 0.9213\n",
      "Epoch 82/100\n",
      "24/24 [==============================] - 0s 1ms/step - loss: 0.1864 - accuracy: 0.9213\n",
      "Epoch 83/100\n",
      "24/24 [==============================] - 0s 889us/step - loss: 0.1853 - accuracy: 0.9227\n",
      "Epoch 84/100\n",
      "24/24 [==============================] - 0s 918us/step - loss: 0.1842 - accuracy: 0.9253\n",
      "Epoch 85/100\n",
      "24/24 [==============================] - 0s 923us/step - loss: 0.1831 - accuracy: 0.9253\n",
      "Epoch 86/100\n",
      "24/24 [==============================] - 0s 887us/step - loss: 0.1820 - accuracy: 0.9267\n",
      "Epoch 87/100\n",
      "24/24 [==============================] - 0s 944us/step - loss: 0.1808 - accuracy: 0.9280\n",
      "Epoch 88/100\n",
      "24/24 [==============================] - 0s 930us/step - loss: 0.1797 - accuracy: 0.9280\n",
      "Epoch 89/100\n",
      "24/24 [==============================] - 0s 898us/step - loss: 0.1788 - accuracy: 0.9307\n",
      "Epoch 90/100\n",
      "24/24 [==============================] - 0s 886us/step - loss: 0.1775 - accuracy: 0.9307\n",
      "Epoch 91/100\n",
      "24/24 [==============================] - 0s 940us/step - loss: 0.1764 - accuracy: 0.9307\n",
      "Epoch 92/100\n",
      "24/24 [==============================] - 0s 892us/step - loss: 0.1752 - accuracy: 0.9307\n",
      "Epoch 93/100\n",
      "24/24 [==============================] - 0s 913us/step - loss: 0.1741 - accuracy: 0.9307\n",
      "Epoch 94/100\n",
      "24/24 [==============================] - 0s 918us/step - loss: 0.1729 - accuracy: 0.9307\n",
      "Epoch 95/100\n",
      "24/24 [==============================] - 0s 960us/step - loss: 0.1717 - accuracy: 0.9307\n",
      "Epoch 96/100\n",
      "24/24 [==============================] - 0s 968us/step - loss: 0.1706 - accuracy: 0.9307\n",
      "Epoch 97/100\n",
      "24/24 [==============================] - 0s 973us/step - loss: 0.1693 - accuracy: 0.9320\n",
      "Epoch 98/100\n",
      "24/24 [==============================] - 0s 1ms/step - loss: 0.1682 - accuracy: 0.9347\n",
      "Epoch 99/100\n",
      "24/24 [==============================] - 0s 999us/step - loss: 0.1670 - accuracy: 0.9347\n",
      "Epoch 100/100\n",
      "24/24 [==============================] - 0s 946us/step - loss: 0.1659 - accuracy: 0.9360\n"
     ]
    }
   ],
   "source": [
    "# Compile the Sequential model together and customize metrics\n",
    "new_model.compile(loss=\"binary_crossentropy\", optimizer=\"adam\", metrics=[\"accuracy\"])\n",
    "\n",
    "# Fit the model to the training data\n",
    "new_fit_model = new_model.fit(X_moon_train_scaled, y_moon_train, epochs=100, shuffle=True)\n"
   ]
  },
  {
   "cell_type": "code",
   "execution_count": null,
   "id": "0318127b",
   "metadata": {},
   "outputs": [],
   "source": []
  }
 ],
 "metadata": {
  "kernelspec": {
   "display_name": "mlenv",
   "language": "python",
   "name": "mlenv"
  },
  "language_info": {
   "codemirror_mode": {
    "name": "ipython",
    "version": 3
   },
   "file_extension": ".py",
   "mimetype": "text/x-python",
   "name": "python",
   "nbconvert_exporter": "python",
   "pygments_lexer": "ipython3",
   "version": "3.7.10"
  }
 },
 "nbformat": 4,
 "nbformat_minor": 5
}
